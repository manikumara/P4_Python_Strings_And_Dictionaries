{
 "cells": [
  {
   "cell_type": "markdown",
   "metadata": {},
   "source": [
    "## Stings"
   ]
  },
  {
   "cell_type": "code",
   "execution_count": 2,
   "metadata": {
    "ExecuteTime": {
     "end_time": "2021-10-03T17:28:54.274434Z",
     "start_time": "2021-10-03T17:28:54.255447Z"
    }
   },
   "outputs": [
    {
     "data": {
      "text/plain": [
       "'Python'"
      ]
     },
     "execution_count": 2,
     "metadata": {},
     "output_type": "execute_result"
    }
   ],
   "source": [
    "#First letter capital in the word\n",
    "my_str = 'python'\n",
    "my_str.capitalize()"
   ]
  },
  {
   "cell_type": "code",
   "execution_count": 3,
   "metadata": {
    "ExecuteTime": {
     "end_time": "2021-10-03T17:29:02.416008Z",
     "start_time": "2021-10-03T17:29:02.399018Z"
    }
   },
   "outputs": [
    {
     "data": {
      "text/plain": [
       "'python'"
      ]
     },
     "execution_count": 3,
     "metadata": {},
     "output_type": "execute_result"
    }
   ],
   "source": [
    "my_str"
   ]
  },
  {
   "cell_type": "code",
   "execution_count": 5,
   "metadata": {
    "ExecuteTime": {
     "end_time": "2021-10-03T17:31:12.850188Z",
     "start_time": "2021-10-03T17:31:12.838194Z"
    }
   },
   "outputs": [
    {
     "data": {
      "text/plain": [
       "'Hello World'"
      ]
     },
     "execution_count": 5,
     "metadata": {},
     "output_type": "execute_result"
    }
   ],
   "source": [
    "#Title case- Each words first letter becomes capital\n",
    "my_str1 = 'hello world'\n",
    "my_str1.title()\n"
   ]
  },
  {
   "cell_type": "code",
   "execution_count": 6,
   "metadata": {
    "ExecuteTime": {
     "end_time": "2021-10-03T17:33:17.359058Z",
     "start_time": "2021-10-03T17:33:17.350063Z"
    }
   },
   "outputs": [
    {
     "data": {
      "text/plain": [
       "(False, True)"
      ]
     },
     "execution_count": 6,
     "metadata": {},
     "output_type": "execute_result"
    }
   ],
   "source": [
    "#checking the string ends with somthing or starts with someting as follows\n",
    "my_str1.endswith('ey'), my_str1.endswith('ld')"
   ]
  },
  {
   "cell_type": "code",
   "execution_count": 9,
   "metadata": {
    "ExecuteTime": {
     "end_time": "2021-10-03T17:34:26.065435Z",
     "start_time": "2021-10-03T17:34:26.052443Z"
    }
   },
   "outputs": [
    {
     "data": {
      "text/plain": [
       "(False, True)"
      ]
     },
     "execution_count": 9,
     "metadata": {},
     "output_type": "execute_result"
    }
   ],
   "source": [
    "my_str1.startswith('Ab'), my_str1.startswith('he')"
   ]
  },
  {
   "cell_type": "code",
   "execution_count": 12,
   "metadata": {
    "ExecuteTime": {
     "end_time": "2021-10-03T17:35:16.444652Z",
     "start_time": "2021-10-03T17:35:16.435657Z"
    }
   },
   "outputs": [],
   "source": [
    "#Finding a charecter\n",
    "my_str3 ='pythoninsta'"
   ]
  },
  {
   "cell_type": "code",
   "execution_count": 14,
   "metadata": {
    "ExecuteTime": {
     "end_time": "2021-10-03T17:35:46.122707Z",
     "start_time": "2021-10-03T17:35:46.107714Z"
    }
   },
   "outputs": [
    {
     "data": {
      "text/plain": [
       "-1"
      ]
     },
     "execution_count": 14,
     "metadata": {},
     "output_type": "execute_result"
    }
   ],
   "source": [
    "my_str3.find('x')"
   ]
  },
  {
   "cell_type": "code",
   "execution_count": 15,
   "metadata": {
    "ExecuteTime": {
     "end_time": "2021-10-03T17:36:14.816695Z",
     "start_time": "2021-10-03T17:36:14.796458Z"
    }
   },
   "outputs": [
    {
     "data": {
      "text/plain": [
       "4"
      ]
     },
     "execution_count": 15,
     "metadata": {},
     "output_type": "execute_result"
    }
   ],
   "source": [
    "If exists, gives the first occurence\n",
    "my_str3.find('o')"
   ]
  },
  {
   "cell_type": "code",
   "execution_count": 25,
   "metadata": {
    "ExecuteTime": {
     "end_time": "2021-10-03T17:40:21.946208Z",
     "start_time": "2021-10-03T17:40:21.930219Z"
    }
   },
   "outputs": [
    {
     "data": {
      "text/plain": [
       "1"
      ]
     },
     "execution_count": 25,
     "metadata": {},
     "output_type": "execute_result"
    }
   ],
   "source": [
    "# checking in a perticular slice\n",
    "my_str3[:5].find('y')"
   ]
  },
  {
   "cell_type": "code",
   "execution_count": 19,
   "metadata": {
    "ExecuteTime": {
     "end_time": "2021-10-03T17:39:01.238936Z",
     "start_time": "2021-10-03T17:39:01.217952Z"
    }
   },
   "outputs": [
    {
     "data": {
      "text/plain": [
       "1"
      ]
     },
     "execution_count": 19,
     "metadata": {},
     "output_type": "execute_result"
    }
   ],
   "source": [
    "#searching value, start position, last position\n",
    "my_str3.index('y',0,5)"
   ]
  },
  {
   "cell_type": "code",
   "execution_count": 27,
   "metadata": {
    "ExecuteTime": {
     "end_time": "2021-10-03T17:41:15.480426Z",
     "start_time": "2021-10-03T17:41:15.465441Z"
    }
   },
   "outputs": [
    {
     "data": {
      "text/plain": [
       "[(0, 'p'),\n",
       " (1, 'y'),\n",
       " (2, 't'),\n",
       " (3, 'h'),\n",
       " (4, 'o'),\n",
       " (5, 'n'),\n",
       " (6, 'i'),\n",
       " (7, 'n'),\n",
       " (8, 's'),\n",
       " (9, 't'),\n",
       " (10, 'a')]"
      ]
     },
     "execution_count": 27,
     "metadata": {},
     "output_type": "execute_result"
    }
   ],
   "source": [
    "list(enumerate(my_str3))"
   ]
  },
  {
   "cell_type": "code",
   "execution_count": 32,
   "metadata": {
    "ExecuteTime": {
     "end_time": "2021-10-03T17:44:06.765181Z",
     "start_time": "2021-10-03T17:44:06.751189Z"
    }
   },
   "outputs": [
    {
     "data": {
      "text/plain": [
       "False"
      ]
     },
     "execution_count": 32,
     "metadata": {},
     "output_type": "execute_result"
    }
   ],
   "source": [
    "# checking the srting is alpha- alphabets, alnum- alphanumeric, numeric- numbers\n",
    "my_str4= 'abc'\n",
    "#my_str4= 'abc123'\n",
    "#my_str4= '1234'\n",
    "my_str4.isalpha()\n",
    "my_str4.isalnum()\n",
    "my_str4.isnumeric()"
   ]
  },
  {
   "cell_type": "code",
   "execution_count": 34,
   "metadata": {
    "ExecuteTime": {
     "end_time": "2021-10-03T17:45:45.139264Z",
     "start_time": "2021-10-03T17:45:45.117278Z"
    }
   },
   "outputs": [
    {
     "data": {
      "text/plain": [
       "True"
      ]
     },
     "execution_count": 34,
     "metadata": {},
     "output_type": "execute_result"
    }
   ],
   "source": [
    "#checking for all the charecters are of lowe case or not\n",
    "my_str2 = 'python'\n",
    "my_str2.islower()"
   ]
  },
  {
   "cell_type": "code",
   "execution_count": 35,
   "metadata": {
    "ExecuteTime": {
     "end_time": "2021-10-03T17:48:43.679961Z",
     "start_time": "2021-10-03T17:48:43.669679Z"
    }
   },
   "outputs": [
    {
     "data": {
      "text/plain": [
       "True"
      ]
     },
     "execution_count": 35,
     "metadata": {},
     "output_type": "execute_result"
    }
   ],
   "source": [
    "#Checking for the space. space given between ''\n",
    "' '.isspace()"
   ]
  },
  {
   "cell_type": "code",
   "execution_count": 37,
   "metadata": {
    "ExecuteTime": {
     "end_time": "2021-10-03T17:49:52.276040Z",
     "start_time": "2021-10-03T17:49:52.256051Z"
    }
   },
   "outputs": [
    {
     "data": {
      "text/plain": [
       "False"
      ]
     },
     "execution_count": 37,
     "metadata": {},
     "output_type": "execute_result"
    }
   ],
   "source": [
    "''.isspace()"
   ]
  },
  {
   "cell_type": "code",
   "execution_count": 38,
   "metadata": {
    "ExecuteTime": {
     "end_time": "2021-10-03T17:50:48.034542Z",
     "start_time": "2021-10-03T17:50:48.020551Z"
    }
   },
   "outputs": [
    {
     "data": {
      "text/plain": [
       "['1', '2', '3']"
      ]
     },
     "execution_count": 38,
     "metadata": {},
     "output_type": "execute_result"
    }
   ],
   "source": [
    "#splitting a string based on comma','\n",
    "'1,2,3'.split(',')"
   ]
  },
  {
   "cell_type": "code",
   "execution_count": null,
   "metadata": {},
   "outputs": [],
   "source": [
    "# Stripping- can remove the white spaces from the string, strip- all the spaces from the left and right of the string, \n",
    "#lstrip- left spaces will be removed, rstrip- removes the right spaces of a string. \n",
    "#Using it when comparing between 2 strings- strip the strings, convert to lower case and compare\n"
   ]
  },
  {
   "cell_type": "code",
   "execution_count": 42,
   "metadata": {
    "ExecuteTime": {
     "end_time": "2021-10-03T17:54:50.827287Z",
     "start_time": "2021-10-03T17:54:50.810298Z"
    }
   },
   "outputs": [
    {
     "data": {
      "text/plain": [
       "'word fun'"
      ]
     },
     "execution_count": 42,
     "metadata": {},
     "output_type": "execute_result"
    }
   ],
   "source": [
    "'  word fun  '.strip()"
   ]
  },
  {
   "cell_type": "code",
   "execution_count": 45,
   "metadata": {
    "ExecuteTime": {
     "end_time": "2021-10-03T17:55:13.052149Z",
     "start_time": "2021-10-03T17:55:13.041159Z"
    }
   },
   "outputs": [
    {
     "data": {
      "text/plain": [
       "'word fun  '"
      ]
     },
     "execution_count": 45,
     "metadata": {},
     "output_type": "execute_result"
    }
   ],
   "source": [
    "'  word fun  '.lstrip()"
   ]
  },
  {
   "cell_type": "code",
   "execution_count": 46,
   "metadata": {
    "ExecuteTime": {
     "end_time": "2021-10-03T17:55:15.134836Z",
     "start_time": "2021-10-03T17:55:15.121844Z"
    }
   },
   "outputs": [
    {
     "data": {
      "text/plain": [
       "'  word fun'"
      ]
     },
     "execution_count": 46,
     "metadata": {},
     "output_type": "execute_result"
    }
   ],
   "source": [
    "'  word fun  '.rstrip()"
   ]
  },
  {
   "cell_type": "code",
   "execution_count": 47,
   "metadata": {
    "ExecuteTime": {
     "end_time": "2021-10-03T17:58:46.075011Z",
     "start_time": "2021-10-03T17:58:46.063018Z"
    }
   },
   "outputs": [
    {
     "data": {
      "text/plain": [
       "'hello world!'"
      ]
     },
     "execution_count": 47,
     "metadata": {},
     "output_type": "execute_result"
    }
   ],
   "source": [
    "#Changing a string to upper case, lower case and swapcase\n",
    "my_str5 = 'Hello World!'\n",
    "my_str5.lower()"
   ]
  },
  {
   "cell_type": "code",
   "execution_count": 48,
   "metadata": {
    "ExecuteTime": {
     "end_time": "2021-10-03T17:58:57.633840Z",
     "start_time": "2021-10-03T17:58:57.623846Z"
    }
   },
   "outputs": [
    {
     "data": {
      "text/plain": [
       "'HELLO WORLD!'"
      ]
     },
     "execution_count": 48,
     "metadata": {},
     "output_type": "execute_result"
    }
   ],
   "source": [
    "my_str5.upper()"
   ]
  },
  {
   "cell_type": "code",
   "execution_count": 50,
   "metadata": {
    "ExecuteTime": {
     "end_time": "2021-10-03T17:59:14.849104Z",
     "start_time": "2021-10-03T17:59:14.828120Z"
    }
   },
   "outputs": [
    {
     "data": {
      "text/plain": [
       "'hELLO wORLD!'"
      ]
     },
     "execution_count": 50,
     "metadata": {},
     "output_type": "execute_result"
    }
   ],
   "source": [
    "my_str5.swapcase()"
   ]
  },
  {
   "cell_type": "code",
   "execution_count": 51,
   "metadata": {
    "ExecuteTime": {
     "end_time": "2021-10-03T17:59:22.263201Z",
     "start_time": "2021-10-03T17:59:22.247215Z"
    }
   },
   "outputs": [
    {
     "data": {
      "text/plain": [
       "'Hello World!'"
      ]
     },
     "execution_count": 51,
     "metadata": {},
     "output_type": "execute_result"
    }
   ],
   "source": [
    "my_str5"
   ]
  },
  {
   "cell_type": "markdown",
   "metadata": {},
   "source": [
    "## Dictinary"
   ]
  },
  {
   "cell_type": "code",
   "execution_count": null,
   "metadata": {},
   "outputs": [],
   "source": [
    "#dictinaries store the data as key-value pair, Represented by using {}"
   ]
  },
  {
   "cell_type": "code",
   "execution_count": 56,
   "metadata": {
    "ExecuteTime": {
     "end_time": "2021-10-03T18:14:41.556566Z",
     "start_time": "2021-10-03T18:14:41.534578Z"
    }
   },
   "outputs": [
    {
     "data": {
      "text/plain": [
       "dict"
      ]
     },
     "execution_count": 56,
     "metadata": {},
     "output_type": "execute_result"
    }
   ],
   "source": [
    "# Creating a dictionary\n",
    "d = {}\n",
    "type(d)"
   ]
  },
  {
   "cell_type": "code",
   "execution_count": 62,
   "metadata": {
    "ExecuteTime": {
     "end_time": "2021-10-03T18:17:25.455081Z",
     "start_time": "2021-10-03T18:17:25.431091Z"
    }
   },
   "outputs": [
    {
     "data": {
      "text/plain": [
       "{'name': 'Tom', 'Age': 23, 'course': 'python'}"
      ]
     },
     "execution_count": 62,
     "metadata": {},
     "output_type": "execute_result"
    }
   ],
   "source": [
    "#creating using literals, typing on own literally\n",
    "d1 = {'name' : 'Tom',\n",
    "     'Age' : 23,\n",
    "     'course' : 'python'}\n",
    "d1"
   ]
  },
  {
   "cell_type": "code",
   "execution_count": 64,
   "metadata": {
    "ExecuteTime": {
     "end_time": "2021-10-03T18:19:12.628135Z",
     "start_time": "2021-10-03T18:19:12.606148Z"
    }
   },
   "outputs": [
    {
     "data": {
      "text/plain": [
       "{'name': 'Tom', 'age': 23, 'course': 'Python'}"
      ]
     },
     "execution_count": 64,
     "metadata": {},
     "output_type": "execute_result"
    }
   ],
   "source": [
    "#Creating using variables\n",
    "#Varaibele name is considered as key and the variable values as values and creates a dictionary.\n",
    "d2 = dict(name = 'Tom', age = 23, course = 'Python')\n",
    "d2"
   ]
  },
  {
   "cell_type": "code",
   "execution_count": 66,
   "metadata": {
    "ExecuteTime": {
     "end_time": "2021-10-03T18:25:04.808995Z",
     "start_time": "2021-10-03T18:25:04.798004Z"
    }
   },
   "outputs": [
    {
     "data": {
      "text/plain": [
       "{'name': 'Tom', 'age': 23, 'course': 'Python'}"
      ]
     },
     "execution_count": 66,
     "metadata": {},
     "output_type": "execute_result"
    }
   ],
   "source": [
    "# create using a list of tuples, Simplarly we can create tuple of lists, list of lists, tuple of tuples also\n",
    "d3 = dict([('name','Tom'), ('age', 23), ('course', 'Python')])\n",
    "d3\n"
   ]
  },
  {
   "cell_type": "code",
   "execution_count": 69,
   "metadata": {
    "ExecuteTime": {
     "end_time": "2021-10-03T18:26:00.552422Z",
     "start_time": "2021-10-03T18:26:00.538434Z"
    }
   },
   "outputs": [
    {
     "data": {
      "text/plain": [
       "{'name': 'Tom', 'age': 23, 'course': 'Python'}"
      ]
     },
     "execution_count": 69,
     "metadata": {},
     "output_type": "execute_result"
    }
   ],
   "source": [
    "#tuple of tuples\n",
    "d4 = dict((('name','Tom'), ('age', 23), ('course', 'Python')))\n",
    "d4"
   ]
  },
  {
   "cell_type": "code",
   "execution_count": 70,
   "metadata": {
    "ExecuteTime": {
     "end_time": "2021-10-03T18:26:43.747031Z",
     "start_time": "2021-10-03T18:26:43.730043Z"
    }
   },
   "outputs": [
    {
     "data": {
      "text/plain": [
       "{'name': 'Tom', 'age': 23, 'course': 'Python'}"
      ]
     },
     "execution_count": 70,
     "metadata": {},
     "output_type": "execute_result"
    }
   ],
   "source": [
    "#list of lists\n",
    "d5 = dict([['name','Tom'], ['age', 23], ['course', 'Python']])\n",
    "d5"
   ]
  },
  {
   "cell_type": "code",
   "execution_count": 74,
   "metadata": {
    "ExecuteTime": {
     "end_time": "2021-10-03T18:27:42.753653Z",
     "start_time": "2021-10-03T18:27:42.728669Z"
    }
   },
   "outputs": [
    {
     "data": {
      "text/plain": [
       "{'name': 'Tom', 'age': 23, 'course': 'Python'}"
      ]
     },
     "execution_count": 74,
     "metadata": {},
     "output_type": "execute_result"
    }
   ],
   "source": [
    "#tuple of lists\n",
    "d6 = dict((['name','Tom'], ['age', 23], ['course', 'Python']))\n",
    "d6"
   ]
  },
  {
   "cell_type": "code",
   "execution_count": 76,
   "metadata": {
    "ExecuteTime": {
     "end_time": "2021-10-03T18:32:54.856648Z",
     "start_time": "2021-10-03T18:32:54.837662Z"
    }
   },
   "outputs": [
    {
     "data": {
      "text/plain": [
       "<zip at 0x1994b859dc8>"
      ]
     },
     "execution_count": 76,
     "metadata": {},
     "output_type": "execute_result"
    }
   ],
   "source": [
    "#create using keys and values and zip \n",
    "#We can even use one list and one tuple\n",
    "keys = ['name','age','course']\n",
    "values = ('Tom',23,'Python')\n",
    "zip(keys,values)\n",
    "#Zip is a iteratable function does its job, but we cannot see. We can see using the nfollowing"
   ]
  },
  {
   "cell_type": "code",
   "execution_count": 77,
   "metadata": {
    "ExecuteTime": {
     "end_time": "2021-10-03T18:34:31.537166Z",
     "start_time": "2021-10-03T18:34:31.517176Z"
    }
   },
   "outputs": [
    {
     "data": {
      "text/plain": [
       "{'name': 'Tom', 'age': 23, 'course': 'Python'}"
      ]
     },
     "execution_count": 77,
     "metadata": {},
     "output_type": "execute_result"
    }
   ],
   "source": [
    "#Zip is a iteratable function does its job, but we cannot see. We can see using the nfollowing\n",
    "d5 = dict(zip(keys,values))\n",
    "d5"
   ]
  },
  {
   "cell_type": "code",
   "execution_count": 78,
   "metadata": {
    "ExecuteTime": {
     "end_time": "2021-10-03T18:42:35.733362Z",
     "start_time": "2021-10-03T18:42:35.717371Z"
    }
   },
   "outputs": [],
   "source": [
    "#Zip can be not only used in dictinary, we can zip any of the sequences if we want to.\n",
    "# Instead of Keys and values we can use x and y, basically anything- those are just variables.\n",
    "#Value can be repeated but not the key. keys should be unique."
   ]
  },
  {
   "cell_type": "code",
   "execution_count": 80,
   "metadata": {
    "ExecuteTime": {
     "end_time": "2021-10-03T18:43:53.314256Z",
     "start_time": "2021-10-03T18:43:53.303265Z"
    }
   },
   "outputs": [
    {
     "data": {
      "text/plain": [
       "{'a': None, 'b': None, 'c': None}"
      ]
     },
     "execution_count": 80,
     "metadata": {},
     "output_type": "execute_result"
    }
   ],
   "source": [
    "# We can create a dictonary with the keys and can fill the values later as well\n",
    "dfk = dict.fromkeys('abc')\n",
    "dfk"
   ]
  },
  {
   "cell_type": "code",
   "execution_count": 81,
   "metadata": {
    "ExecuteTime": {
     "end_time": "2021-10-03T18:44:06.090604Z",
     "start_time": "2021-10-03T18:44:06.078610Z"
    }
   },
   "outputs": [
    {
     "data": {
      "text/plain": [
       "{'a': 0, 'b': 0, 'c': 0}"
      ]
     },
     "execution_count": 81,
     "metadata": {},
     "output_type": "execute_result"
    }
   ],
   "source": [
    "dfk1 = dict.fromkeys('abc',0)\n",
    "dfk1"
   ]
  },
  {
   "cell_type": "code",
   "execution_count": 90,
   "metadata": {
    "ExecuteTime": {
     "end_time": "2021-10-03T18:50:17.900810Z",
     "start_time": "2021-10-03T18:50:17.879823Z"
    }
   },
   "outputs": [
    {
     "data": {
      "text/plain": [
       "{10: None, 20: None, 30: None}"
      ]
     },
     "execution_count": 90,
     "metadata": {},
     "output_type": "execute_result"
    }
   ],
   "source": [
    "dfk2 = dict.fromkeys((10,20,30))\n",
    "dfk2"
   ]
  },
  {
   "cell_type": "code",
   "execution_count": null,
   "metadata": {},
   "outputs": [],
   "source": [
    "#Keys can be any immutable data type\n",
    "#Strings,Integer, tuple(eg.(0,0): 'Origin')"
   ]
  },
  {
   "cell_type": "code",
   "execution_count": 99,
   "metadata": {
    "ExecuteTime": {
     "end_time": "2021-10-03T19:00:41.247585Z",
     "start_time": "2021-10-03T19:00:41.231596Z"
    }
   },
   "outputs": [
    {
     "name": "stdout",
     "output_type": "stream",
     "text": [
      "name : Tom\n",
      "age : 23\n",
      "course : Python\n"
     ]
    }
   ],
   "source": [
    "#Can create a dictionary using dictionary comprehension\n",
    "keys = ['name','age','course']\n",
    "values = ('Tom',23,'Python')\n",
    "for k,v in zip(keys,values):\n",
    "    print(k, ':', v)\n",
    "    #print(k)\n",
    "    #print(v)"
   ]
  },
  {
   "cell_type": "code",
   "execution_count": 102,
   "metadata": {
    "ExecuteTime": {
     "end_time": "2021-10-03T19:02:51.916407Z",
     "start_time": "2021-10-03T19:02:51.901418Z"
    }
   },
   "outputs": [
    {
     "data": {
      "text/plain": [
       "{'name': 'Tom', 'age': 23, 'course': 'Python'}"
      ]
     },
     "execution_count": 102,
     "metadata": {},
     "output_type": "execute_result"
    }
   ],
   "source": [
    "#Can create a dictionary using dictionary comprehension(using the above looping)\n",
    "#(return value    lopping condition)\n",
    "#similar to list comprehension\n",
    "dcomp = { k:v   for k,v in zip(keys,values) }\n",
    "dcomp"
   ]
  },
  {
   "cell_type": "code",
   "execution_count": 104,
   "metadata": {
    "ExecuteTime": {
     "end_time": "2021-10-03T19:04:30.376512Z",
     "start_time": "2021-10-03T19:04:30.368517Z"
    }
   },
   "outputs": [
    {
     "data": {
      "text/plain": [
       "'Tom'"
      ]
     },
     "execution_count": 104,
     "metadata": {},
     "output_type": "execute_result"
    }
   ],
   "source": [
    "#Accessing the elements\n",
    "dcomp['name']"
   ]
  },
  {
   "cell_type": "code",
   "execution_count": 105,
   "metadata": {
    "ExecuteTime": {
     "end_time": "2021-10-03T19:05:00.569785Z",
     "start_time": "2021-10-03T19:05:00.548798Z"
    }
   },
   "outputs": [
    {
     "data": {
      "text/plain": [
       "23"
      ]
     },
     "execution_count": 105,
     "metadata": {},
     "output_type": "execute_result"
    }
   ],
   "source": [
    "dcomp['age']"
   ]
  },
  {
   "cell_type": "code",
   "execution_count": 110,
   "metadata": {
    "ExecuteTime": {
     "end_time": "2021-10-03T19:06:03.947195Z",
     "start_time": "2021-10-03T19:06:03.932201Z"
    }
   },
   "outputs": [
    {
     "data": {
      "text/plain": [
       "dict_keys(['name', 'age', 'course'])"
      ]
     },
     "execution_count": 110,
     "metadata": {},
     "output_type": "execute_result"
    }
   ],
   "source": [
    "dcomp.keys()"
   ]
  },
  {
   "cell_type": "code",
   "execution_count": 111,
   "metadata": {
    "ExecuteTime": {
     "end_time": "2021-10-03T19:09:10.709972Z",
     "start_time": "2021-10-03T19:09:10.690989Z"
    }
   },
   "outputs": [
    {
     "ename": "KeyError",
     "evalue": "'role'",
     "output_type": "error",
     "traceback": [
      "\u001b[1;31m---------------------------------------------------------------------------\u001b[0m",
      "\u001b[1;31mKeyError\u001b[0m                                  Traceback (most recent call last)",
      "\u001b[1;32m<ipython-input-111-f34758e0973b>\u001b[0m in \u001b[0;36m<module>\u001b[1;34m\u001b[0m\n\u001b[1;32m----> 1\u001b[1;33m \u001b[0mdcomp\u001b[0m\u001b[1;33m[\u001b[0m\u001b[1;34m'role'\u001b[0m\u001b[1;33m]\u001b[0m\u001b[1;33m\u001b[0m\u001b[1;33m\u001b[0m\u001b[0m\n\u001b[0m",
      "\u001b[1;31mKeyError\u001b[0m: 'role'"
     ]
    }
   ],
   "source": [
    "#Not there in the dict\n",
    "dcomp['role']"
   ]
  },
  {
   "cell_type": "code",
   "execution_count": 112,
   "metadata": {
    "ExecuteTime": {
     "end_time": "2021-10-03T19:10:33.806542Z",
     "start_time": "2021-10-03T19:10:33.797545Z"
    }
   },
   "outputs": [
    {
     "data": {
      "text/plain": [
       "23"
      ]
     },
     "execution_count": 112,
     "metadata": {},
     "output_type": "execute_result"
    }
   ],
   "source": [
    "#using get method\n",
    "dcomp.get('age')"
   ]
  },
  {
   "cell_type": "code",
   "execution_count": 113,
   "metadata": {
    "ExecuteTime": {
     "end_time": "2021-10-03T19:10:45.522505Z",
     "start_time": "2021-10-03T19:10:45.507512Z"
    }
   },
   "outputs": [],
   "source": [
    "dcomp.get('role')\n",
    "#doent give any error"
   ]
  },
  {
   "cell_type": "code",
   "execution_count": 122,
   "metadata": {
    "ExecuteTime": {
     "end_time": "2021-10-03T19:19:18.042612Z",
     "start_time": "2021-10-03T19:19:18.021625Z"
    }
   },
   "outputs": [
    {
     "data": {
      "text/plain": [
       "23"
      ]
     },
     "execution_count": 122,
     "metadata": {},
     "output_type": "execute_result"
    }
   ],
   "source": [
    "#can give a default value also if the element is not found in dictionary\n",
    "#Value 1 is input, 2 nd is the default value if the given put doent there in the dictionary\n",
    "dcomp.get('age', 'Data not there in dictionary')"
   ]
  },
  {
   "cell_type": "code",
   "execution_count": 123,
   "metadata": {
    "ExecuteTime": {
     "end_time": "2021-10-03T19:19:20.940341Z",
     "start_time": "2021-10-03T19:19:20.932340Z"
    }
   },
   "outputs": [
    {
     "data": {
      "text/plain": [
       "'Data not there in dictionary'"
      ]
     },
     "execution_count": 123,
     "metadata": {},
     "output_type": "execute_result"
    }
   ],
   "source": [
    "dcomp.get('role', 'Data not there in dictionary')"
   ]
  },
  {
   "cell_type": "code",
   "execution_count": 124,
   "metadata": {
    "ExecuteTime": {
     "end_time": "2021-10-03T19:23:25.248514Z",
     "start_time": "2021-10-03T19:23:25.229527Z"
    }
   },
   "outputs": [
    {
     "data": {
      "text/plain": [
       "3"
      ]
     },
     "execution_count": 124,
     "metadata": {},
     "output_type": "execute_result"
    }
   ],
   "source": [
    "#finding the lenght of the collection\n",
    "len(dcomp)"
   ]
  },
  {
   "cell_type": "code",
   "execution_count": 125,
   "metadata": {
    "ExecuteTime": {
     "end_time": "2021-10-03T19:25:40.378023Z",
     "start_time": "2021-10-03T19:25:40.361033Z"
    }
   },
   "outputs": [
    {
     "data": {
      "text/plain": [
       "True"
      ]
     },
     "execution_count": 125,
     "metadata": {},
     "output_type": "execute_result"
    }
   ],
   "source": [
    "# membership operation, can check a key or value available in dict\n",
    "'age' in dcomp"
   ]
  },
  {
   "cell_type": "code",
   "execution_count": 127,
   "metadata": {
    "ExecuteTime": {
     "end_time": "2021-10-03T19:26:41.753441Z",
     "start_time": "2021-10-03T19:26:41.736452Z"
    }
   },
   "outputs": [
    {
     "data": {
      "text/plain": [
       "False"
      ]
     },
     "execution_count": 127,
     "metadata": {},
     "output_type": "execute_result"
    }
   ],
   "source": [
    "'role' in dcomp"
   ]
  },
  {
   "cell_type": "code",
   "execution_count": 128,
   "metadata": {
    "ExecuteTime": {
     "end_time": "2021-10-03T19:26:57.362076Z",
     "start_time": "2021-10-03T19:26:57.344084Z"
    }
   },
   "outputs": [
    {
     "data": {
      "text/plain": [
       "True"
      ]
     },
     "execution_count": 128,
     "metadata": {},
     "output_type": "execute_result"
    }
   ],
   "source": [
    "'role' not in dcomp"
   ]
  },
  {
   "cell_type": "code",
   "execution_count": null,
   "metadata": {},
   "outputs": [],
   "source": [
    "# Removing values"
   ]
  },
  {
   "cell_type": "code",
   "execution_count": 137,
   "metadata": {
    "ExecuteTime": {
     "end_time": "2021-10-03T19:30:44.529185Z",
     "start_time": "2021-10-03T19:30:44.519190Z"
    }
   },
   "outputs": [
    {
     "data": {
      "text/plain": [
       "{10: None, 20: None, 30: None, 40: None, 50: None, 60.7: None}"
      ]
     },
     "execution_count": 137,
     "metadata": {},
     "output_type": "execute_result"
    }
   ],
   "source": [
    "d7 = dict.fromkeys((10,20,30,40,50,60.70))\n",
    "d7"
   ]
  },
  {
   "cell_type": "code",
   "execution_count": 138,
   "metadata": {
    "ExecuteTime": {
     "end_time": "2021-10-03T19:30:46.897247Z",
     "start_time": "2021-10-03T19:30:46.887252Z"
    }
   },
   "outputs": [],
   "source": [
    "#Deletion\n",
    "del d7[20]"
   ]
  },
  {
   "cell_type": "code",
   "execution_count": 139,
   "metadata": {
    "ExecuteTime": {
     "end_time": "2021-10-03T19:30:48.663227Z",
     "start_time": "2021-10-03T19:30:48.646242Z"
    }
   },
   "outputs": [
    {
     "data": {
      "text/plain": [
       "{10: None, 40: None, 50: None, 60.7: None}"
      ]
     },
     "execution_count": 139,
     "metadata": {},
     "output_type": "execute_result"
    }
   ],
   "source": [
    "d7.pop(30)\n",
    "d7"
   ]
  },
  {
   "cell_type": "code",
   "execution_count": 140,
   "metadata": {
    "ExecuteTime": {
     "end_time": "2021-10-03T19:31:43.801728Z",
     "start_time": "2021-10-03T19:31:43.781741Z"
    }
   },
   "outputs": [
    {
     "ename": "KeyError",
     "evalue": "100",
     "output_type": "error",
     "traceback": [
      "\u001b[1;31m---------------------------------------------------------------------------\u001b[0m",
      "\u001b[1;31mKeyError\u001b[0m                                  Traceback (most recent call last)",
      "\u001b[1;32m<ipython-input-140-8e8df87aede8>\u001b[0m in \u001b[0;36m<module>\u001b[1;34m\u001b[0m\n\u001b[1;32m----> 1\u001b[1;33m \u001b[0md7\u001b[0m\u001b[1;33m.\u001b[0m\u001b[0mpop\u001b[0m\u001b[1;33m(\u001b[0m\u001b[1;36m100\u001b[0m\u001b[1;33m)\u001b[0m\u001b[1;33m\u001b[0m\u001b[1;33m\u001b[0m\u001b[0m\n\u001b[0m",
      "\u001b[1;31mKeyError\u001b[0m: 100"
     ]
    }
   ],
   "source": [
    "d7.pop(100)"
   ]
  },
  {
   "cell_type": "code",
   "execution_count": 141,
   "metadata": {
    "ExecuteTime": {
     "end_time": "2021-10-03T19:32:01.616814Z",
     "start_time": "2021-10-03T19:32:01.597824Z"
    }
   },
   "outputs": [
    {
     "data": {
      "text/plain": [
       "'Not found'"
      ]
     },
     "execution_count": 141,
     "metadata": {},
     "output_type": "execute_result"
    }
   ],
   "source": [
    "#can give a default message if number not found\n",
    "d7.pop(100,'Not found')"
   ]
  },
  {
   "cell_type": "code",
   "execution_count": 143,
   "metadata": {
    "ExecuteTime": {
     "end_time": "2021-10-03T19:32:47.128370Z",
     "start_time": "2021-10-03T19:32:47.117379Z"
    }
   },
   "outputs": [
    {
     "data": {
      "text/plain": [
       "(60.7, None)"
      ]
     },
     "execution_count": 143,
     "metadata": {},
     "output_type": "execute_result"
    }
   ],
   "source": [
    "#popitem removes the last item in the dict\n",
    "d7.popitem()"
   ]
  },
  {
   "cell_type": "code",
   "execution_count": 145,
   "metadata": {
    "ExecuteTime": {
     "end_time": "2021-10-03T19:33:55.302544Z",
     "start_time": "2021-10-03T19:33:55.292549Z"
    }
   },
   "outputs": [
    {
     "data": {
      "text/plain": [
       "{}"
      ]
     },
     "execution_count": 145,
     "metadata": {},
     "output_type": "execute_result"
    }
   ],
   "source": [
    "#To remove everything, can use clear\n",
    "d7.clear()\n",
    "d7"
   ]
  },
  {
   "cell_type": "code",
   "execution_count": 149,
   "metadata": {
    "ExecuteTime": {
     "end_time": "2021-10-03T19:41:45.725611Z",
     "start_time": "2021-10-03T19:41:45.712620Z"
    }
   },
   "outputs": [
    {
     "data": {
      "text/plain": [
       "{'a': 1, 'b': 1}"
      ]
     },
     "execution_count": 149,
     "metadata": {},
     "output_type": "execute_result"
    }
   ],
   "source": [
    "d8 = dict.fromkeys(('a','b'),1)\n",
    "d8"
   ]
  }
 ],
 "metadata": {
  "kernelspec": {
   "display_name": "Python 3",
   "language": "python",
   "name": "python3"
  },
  "language_info": {
   "codemirror_mode": {
    "name": "ipython",
    "version": 3
   },
   "file_extension": ".py",
   "mimetype": "text/x-python",
   "name": "python",
   "nbconvert_exporter": "python",
   "pygments_lexer": "ipython3",
   "version": "3.7.4"
  },
  "varInspector": {
   "cols": {
    "lenName": 16,
    "lenType": 16,
    "lenVar": 40
   },
   "kernels_config": {
    "python": {
     "delete_cmd_postfix": "",
     "delete_cmd_prefix": "del ",
     "library": "var_list.py",
     "varRefreshCmd": "print(var_dic_list())"
    },
    "r": {
     "delete_cmd_postfix": ") ",
     "delete_cmd_prefix": "rm(",
     "library": "var_list.r",
     "varRefreshCmd": "cat(var_dic_list()) "
    }
   },
   "types_to_exclude": [
    "module",
    "function",
    "builtin_function_or_method",
    "instance",
    "_Feature"
   ],
   "window_display": false
  }
 },
 "nbformat": 4,
 "nbformat_minor": 2
}
